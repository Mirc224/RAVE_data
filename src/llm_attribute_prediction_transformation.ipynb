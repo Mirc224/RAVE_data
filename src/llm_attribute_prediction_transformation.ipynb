{
 "cells": [
  {
   "cell_type": "code",
   "execution_count": null,
   "id": "e22aae5c",
   "metadata": {},
   "outputs": [],
   "source": [
    "import os\n",
    "import json\n",
    "import pandas as pd\n",
    "from experiments.running_experiments import AttributePredictionResult, SampleProcessingResult"
   ]
  },
  {
   "cell_type": "code",
   "execution_count": null,
   "id": "58b0460f",
   "metadata": {},
   "outputs": [],
   "source": [
    "RAW_RESULT_FOLDER_PATH = './results_attributes'\n",
    "TRANSFORMED_RESULT_FOLDER_PATH = './attribute_prediction_results'"
   ]
  },
  {
   "cell_type": "code",
   "execution_count": null,
   "id": "68c3c209",
   "metadata": {},
   "outputs": [],
   "source": [
    "def parse_sample_data(sample_data: dict) -> tuple[int, list[str]]:\n",
    "    sample_id = sample_data[SampleProcessingResult.ID]\n",
    "    final_response_raw = sample_data[SampleProcessingResult.RESULT_RESPONSES][-1]\n",
    "    predicted_attributes: list[str] = []\n",
    "    try:\n",
    "        parsed_response_json = json.loads(final_response_raw[SampleProcessingResult.MODEL_RESPONSE])\n",
    "        predicted_attributes = parsed_response_json[\"attributes\"]\n",
    "    except Exception as e:\n",
    "        pass\n",
    "    \n",
    "    return (sample_id, predicted_attributes)\n",
    "\n",
    "def parse_results(raw_output_list: list[dict]) -> list[AttributePredictionResult]:\n",
    "    result_list: list[AttributePredictionResult] = []\n",
    "    for raw_output in raw_output_list:\n",
    "        sample_id, predicted_attributes = parse_sample_data(raw_output)\n",
    "        \n",
    "        prediction_result = AttributePredictionResult(sample_id)\n",
    "        prediction_result.predicted_attributes = predicted_attributes\n",
    "\n",
    "        result_list.append(prediction_result)\n",
    "    return result_list\n",
    "\n",
    "model_result_dict: dict[str, list[AttributePredictionResult]] = {}\n",
    "\n",
    "for filename in os.listdir(RAW_RESULT_FOLDER_PATH):\n",
    "    if not filename.endswith('shot.json'):\n",
    "        continue\n",
    "    print(filename)\n",
    "    file_path = os.path.join(RAW_RESULT_FOLDER_PATH, filename)\n",
    "    with open(file_path, 'r', encoding='utf-8') as file:\n",
    "        try:\n",
    "            data = json.load(file)\n",
    "        except json.JSONDecodeError as e:\n",
    "            print(f\"Error decoding JSON from file {filename}: {e}\")\n",
    "            continue\n",
    "    prediction_results_list = parse_results(data['results'])\n",
    "    result_file_path = os.path.join(TRANSFORMED_RESULT_FOLDER_PATH, filename)\n",
    "    with open(result_file_path, 'w', encoding='utf-8') as f:\n",
    "        json.dump([prediction.to_dict() for prediction in prediction_results_list], f)\n"
   ]
  }
 ],
 "metadata": {
  "kernelspec": {
   "display_name": ".venv",
   "language": "python",
   "name": "python3"
  },
  "language_info": {
   "codemirror_mode": {
    "name": "ipython",
    "version": 3
   },
   "file_extension": ".py",
   "mimetype": "text/x-python",
   "name": "python",
   "nbconvert_exporter": "python",
   "pygments_lexer": "ipython3",
   "version": "3.12.7"
  }
 },
 "nbformat": 4,
 "nbformat_minor": 5
}
